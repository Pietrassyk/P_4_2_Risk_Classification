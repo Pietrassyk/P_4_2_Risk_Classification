{
 "cells": [
  {
   "cell_type": "markdown",
   "metadata": {},
   "source": [
    "# Applying Classification Modeling\n",
    "\n",
    "The goal of this week's assessment is to find the model which best predicts whether or not a person will default on their credit card payment. In doing so, we want to utilize all of the different tools we have learned over the course: data cleaning, EDA, feature engineering/transformation, feature selection, hyperparameter tuning, and model evaluation. \n",
    "\n",
    "\n",
    "#### Data Set Information:\n",
    "\n",
    "- This dataset contains information on default payments, demographic factors, credit data, history of payment, and bill statements of credit card clients in Taiwan from April 2005 to September 2005.\n",
    "\n",
    "- NT is the abbreviation for New Taiwan. \n",
    "\n",
    "\n",
    "#### Attribute Information:\n",
    "\n",
    "This research employed a binary variable, default payment (Yes = 1, No = 0), as the response variable. This study reviewed the literature and used the following 23 variables as explanatory variables: \n",
    "- X1: Amount of the given credit (NT dollar): it includes both the individual consumer credit and his/her family (supplementary) credit. \n",
    "- X2: Gender (1 = male; 2 = female). \n",
    "- X3: Education (1 = graduate school; 2 = university; 3 = high school; 4 = others). \n",
    "- X4: Marital status (1 = married; 2 = single; 3 = others). \n",
    "- X5: Age (year). \n",
    "- X6 - X11: History of past payment. We tracked the past monthly payment records (from April to September, 2005) as follows: \n",
    "    - X6 = the repayment status in September, 2005; \n",
    "    - X7 = the repayment status in August, 2005; . . .;\n",
    "    - etc...\n",
    "    - X11 = the repayment status in April, 2005. \n",
    "    - The measurement scale for the repayment status is: -1 = pay duly; 1 = payment delay for one month; 2 = payment delay for two months; . . .; 8 = payment delay for eight months; 9 = payment delay for nine months and above. \n",
    "- X12-X17: Amount of bill statement (NT dollar). \n",
    "    - X12 = amount of bill statement in September, 2005;\n",
    "    - etc...\n",
    "    - X13 = amount of bill statement in August, 2005; . . .; \n",
    "    - X17 = amount of bill statement in April, 2005. \n",
    "- X18-X23: Amount of previous payment (NT dollar). \n",
    "    - X18 = amount paid in September, 2005; \n",
    "    - X19 = amount paid in August, 2005; . . .;\n",
    "    - etc...\n",
    "    - X23 = amount paid in April, 2005. \n",
    "\n",
    "\n",
    "\n",
    "\n",
    "You will fit three different models (KNN, Logistic Regression, and Decision Tree Classifier) to predict credit card defaults and use gridsearch to find the best hyperparameters for those models. Then you will compare the performance of those three models on a test set to find the best one.  \n"
   ]
  },
  {
   "cell_type": "markdown",
   "metadata": {},
   "source": [
    "## Process/Expectations\n",
    "\n",
    "- You will be working in pairs for this assessment\n",
    "\n",
    "### Please have ONE notebook and be prepared to explain how you worked with your partner.\n",
    "\n",
    "1. Clean up your data set so that you can perform an EDA. \n",
    "    - This includes handling null values, categorical variables, removing unimportant columns, and removing outliers.\n",
    "2. Perform EDA to identify opportunities to create new features.\n",
    "    - [Great Example of EDA for classification](https://www.kaggle.com/stephaniestallworth/titanic-eda-classification-end-to-end) \n",
    "    - [Using Pairplots with Classification](https://towardsdatascience.com/visualizing-data-with-pair-plots-in-python-f228cf529166)\n",
    "3. Engineer new features. \n",
    "    - Create polynomial and/or interaction features. \n",
    "    - Additionaly, you must also create **at least 2 new features** that are not interactions or polynomial transformations. \n",
    "        - *For example, you can create a new dummy variable that based on the value of a continuous variable (billamount6 >2000) or take the average of some past amounts.*\n",
    "4. Perform some feature selection. \n",
    "    \n",
    "5. You must fit **three** models to your data and tune **at least 1 hyperparameter** per model. \n",
    "6. Using the F-1 Score, evaluate how well your models perform and identify your best model.\n",
    "7. Using information from your EDA process and your model(s) output provide insight as to which borrowers are more likely to deafult\n"
   ]
  },
  {
   "cell_type": "code",
   "execution_count": 83,
   "metadata": {},
   "outputs": [],
   "source": [
    "# import libraries\n",
    "\n",
    "import pandas as pd\n",
    "import seaborn as sns\n",
    "import matplotlib.pyplot as plt\n",
    "import numpy as np\n",
    "%matplotlib inline\n",
    "pd.set_option(\"display.max_columns\",300)\n"
   ]
  },
  {
   "cell_type": "markdown",
   "metadata": {},
   "source": [
    "## 1. Data Cleaning"
   ]
  },
  {
   "cell_type": "code",
   "execution_count": 2,
   "metadata": {},
   "outputs": [],
   "source": [
    "df = pd.read_csv('classification_lab_data.csv')"
   ]
  },
  {
   "cell_type": "code",
   "execution_count": 3,
   "metadata": {},
   "outputs": [],
   "source": [
    "convert = ['LIMIT_BAL','BILL_AMT1',\n",
    " 'BILL_AMT2',\n",
    " 'BILL_AMT3',\n",
    " 'BILL_AMT4',\n",
    " 'BILL_AMT5',\n",
    " 'BILL_AMT6',\n",
    " 'PAY_AMT1',\n",
    " 'PAY_AMT2',\n",
    " 'PAY_AMT3',\n",
    " 'PAY_AMT4',\n",
    " 'PAY_AMT5',\n",
    " 'PAY_AMT6',]"
   ]
  },
  {
   "cell_type": "code",
   "execution_count": 4,
   "metadata": {},
   "outputs": [],
   "source": [
    "for col in convert:\n",
    "    df[col.lower()+\"_$\"] = df[col]*0.032\n",
    "    df.drop(col,axis = 1, inplace = True)"
   ]
  },
  {
   "cell_type": "code",
   "execution_count": 5,
   "metadata": {},
   "outputs": [],
   "source": [
    "df.rename(columns = {\"default payment next month\":\"default\"}, inplace = True)"
   ]
  },
  {
   "cell_type": "code",
   "execution_count": 6,
   "metadata": {},
   "outputs": [],
   "source": [
    "# maybe change (PAY) -1 , -2 to 0 because all pyments are on time\n",
    "# change (PAY) col to month"
   ]
  },
  {
   "cell_type": "code",
   "execution_count": 7,
   "metadata": {
    "scrolled": true
   },
   "outputs": [
    {
     "data": {
      "text/html": [
       "<div>\n",
       "<style scoped>\n",
       "    .dataframe tbody tr th:only-of-type {\n",
       "        vertical-align: middle;\n",
       "    }\n",
       "\n",
       "    .dataframe tbody tr th {\n",
       "        vertical-align: top;\n",
       "    }\n",
       "\n",
       "    .dataframe thead th {\n",
       "        text-align: right;\n",
       "    }\n",
       "</style>\n",
       "<table border=\"1\" class=\"dataframe\">\n",
       "  <thead>\n",
       "    <tr style=\"text-align: right;\">\n",
       "      <th></th>\n",
       "      <th>SEX</th>\n",
       "      <th>EDUCATION</th>\n",
       "      <th>MARRIAGE</th>\n",
       "      <th>AGE</th>\n",
       "      <th>PAY_0</th>\n",
       "      <th>PAY_2</th>\n",
       "      <th>PAY_3</th>\n",
       "      <th>PAY_4</th>\n",
       "      <th>PAY_5</th>\n",
       "      <th>PAY_6</th>\n",
       "      <th>default</th>\n",
       "      <th>limit_bal_$</th>\n",
       "      <th>bill_amt1_$</th>\n",
       "      <th>bill_amt2_$</th>\n",
       "      <th>bill_amt3_$</th>\n",
       "      <th>bill_amt4_$</th>\n",
       "      <th>bill_amt5_$</th>\n",
       "      <th>bill_amt6_$</th>\n",
       "      <th>pay_amt1_$</th>\n",
       "      <th>pay_amt2_$</th>\n",
       "      <th>pay_amt3_$</th>\n",
       "      <th>pay_amt4_$</th>\n",
       "      <th>pay_amt5_$</th>\n",
       "      <th>pay_amt6_$</th>\n",
       "    </tr>\n",
       "  </thead>\n",
       "  <tbody>\n",
       "    <tr>\n",
       "      <th>0</th>\n",
       "      <td>1</td>\n",
       "      <td>2</td>\n",
       "      <td>2</td>\n",
       "      <td>49</td>\n",
       "      <td>0</td>\n",
       "      <td>0</td>\n",
       "      <td>0</td>\n",
       "      <td>0</td>\n",
       "      <td>0</td>\n",
       "      <td>0</td>\n",
       "      <td>1</td>\n",
       "      <td>1600.0</td>\n",
       "      <td>2887.392</td>\n",
       "      <td>2900.704</td>\n",
       "      <td>2953.888</td>\n",
       "      <td>3004.160</td>\n",
       "      <td>3181.376</td>\n",
       "      <td>3244.544</td>\n",
       "      <td>91.264</td>\n",
       "      <td>89.088</td>\n",
       "      <td>83.296</td>\n",
       "      <td>320.000</td>\n",
       "      <td>101.248</td>\n",
       "      <td>91.776</td>\n",
       "    </tr>\n",
       "    <tr>\n",
       "      <th>1</th>\n",
       "      <td>1</td>\n",
       "      <td>2</td>\n",
       "      <td>1</td>\n",
       "      <td>39</td>\n",
       "      <td>0</td>\n",
       "      <td>0</td>\n",
       "      <td>0</td>\n",
       "      <td>0</td>\n",
       "      <td>0</td>\n",
       "      <td>0</td>\n",
       "      <td>0</td>\n",
       "      <td>960.0</td>\n",
       "      <td>668.576</td>\n",
       "      <td>710.592</td>\n",
       "      <td>616.736</td>\n",
       "      <td>527.008</td>\n",
       "      <td>469.440</td>\n",
       "      <td>358.848</td>\n",
       "      <td>64.224</td>\n",
       "      <td>64.000</td>\n",
       "      <td>64.000</td>\n",
       "      <td>13.344</td>\n",
       "      <td>48.000</td>\n",
       "      <td>48.000</td>\n",
       "    </tr>\n",
       "    <tr>\n",
       "      <th>2</th>\n",
       "      <td>1</td>\n",
       "      <td>1</td>\n",
       "      <td>2</td>\n",
       "      <td>27</td>\n",
       "      <td>0</td>\n",
       "      <td>0</td>\n",
       "      <td>0</td>\n",
       "      <td>0</td>\n",
       "      <td>0</td>\n",
       "      <td>0</td>\n",
       "      <td>0</td>\n",
       "      <td>8320.0</td>\n",
       "      <td>5078.752</td>\n",
       "      <td>4153.472</td>\n",
       "      <td>3255.072</td>\n",
       "      <td>2454.368</td>\n",
       "      <td>1815.616</td>\n",
       "      <td>1252.288</td>\n",
       "      <td>960.000</td>\n",
       "      <td>132.224</td>\n",
       "      <td>109.120</td>\n",
       "      <td>83.200</td>\n",
       "      <td>57.600</td>\n",
       "      <td>38.400</td>\n",
       "    </tr>\n",
       "    <tr>\n",
       "      <th>3</th>\n",
       "      <td>2</td>\n",
       "      <td>2</td>\n",
       "      <td>1</td>\n",
       "      <td>33</td>\n",
       "      <td>0</td>\n",
       "      <td>0</td>\n",
       "      <td>0</td>\n",
       "      <td>0</td>\n",
       "      <td>0</td>\n",
       "      <td>0</td>\n",
       "      <td>0</td>\n",
       "      <td>6400.0</td>\n",
       "      <td>760.384</td>\n",
       "      <td>830.208</td>\n",
       "      <td>863.616</td>\n",
       "      <td>807.584</td>\n",
       "      <td>708.192</td>\n",
       "      <td>440.768</td>\n",
       "      <td>128.000</td>\n",
       "      <td>64.000</td>\n",
       "      <td>19.200</td>\n",
       "      <td>96.000</td>\n",
       "      <td>128.000</td>\n",
       "      <td>3.200</td>\n",
       "    </tr>\n",
       "    <tr>\n",
       "      <th>4</th>\n",
       "      <td>1</td>\n",
       "      <td>1</td>\n",
       "      <td>2</td>\n",
       "      <td>27</td>\n",
       "      <td>0</td>\n",
       "      <td>0</td>\n",
       "      <td>0</td>\n",
       "      <td>0</td>\n",
       "      <td>0</td>\n",
       "      <td>0</td>\n",
       "      <td>0</td>\n",
       "      <td>1600.0</td>\n",
       "      <td>467.648</td>\n",
       "      <td>499.904</td>\n",
       "      <td>522.944</td>\n",
       "      <td>564.896</td>\n",
       "      <td>566.304</td>\n",
       "      <td>578.176</td>\n",
       "      <td>49.856</td>\n",
       "      <td>40.896</td>\n",
       "      <td>50.848</td>\n",
       "      <td>20.256</td>\n",
       "      <td>20.992</td>\n",
       "      <td>25.056</td>\n",
       "    </tr>\n",
       "  </tbody>\n",
       "</table>\n",
       "</div>"
      ],
      "text/plain": [
       "   SEX  EDUCATION  MARRIAGE  AGE  PAY_0  PAY_2  PAY_3  PAY_4  PAY_5  PAY_6  \\\n",
       "0    1          2         2   49      0      0      0      0      0      0   \n",
       "1    1          2         1   39      0      0      0      0      0      0   \n",
       "2    1          1         2   27      0      0      0      0      0      0   \n",
       "3    2          2         1   33      0      0      0      0      0      0   \n",
       "4    1          1         2   27      0      0      0      0      0      0   \n",
       "\n",
       "   default  limit_bal_$  bill_amt1_$  bill_amt2_$  bill_amt3_$  bill_amt4_$  \\\n",
       "0        1       1600.0     2887.392     2900.704     2953.888     3004.160   \n",
       "1        0        960.0      668.576      710.592      616.736      527.008   \n",
       "2        0       8320.0     5078.752     4153.472     3255.072     2454.368   \n",
       "3        0       6400.0      760.384      830.208      863.616      807.584   \n",
       "4        0       1600.0      467.648      499.904      522.944      564.896   \n",
       "\n",
       "   bill_amt5_$  bill_amt6_$  pay_amt1_$  pay_amt2_$  pay_amt3_$  pay_amt4_$  \\\n",
       "0     3181.376     3244.544      91.264      89.088      83.296     320.000   \n",
       "1      469.440      358.848      64.224      64.000      64.000      13.344   \n",
       "2     1815.616     1252.288     960.000     132.224     109.120      83.200   \n",
       "3      708.192      440.768     128.000      64.000      19.200      96.000   \n",
       "4      566.304      578.176      49.856      40.896      50.848      20.256   \n",
       "\n",
       "   pay_amt5_$  pay_amt6_$  \n",
       "0     101.248      91.776  \n",
       "1      48.000      48.000  \n",
       "2      57.600      38.400  \n",
       "3     128.000       3.200  \n",
       "4      20.992      25.056  "
      ]
     },
     "execution_count": 7,
     "metadata": {},
     "output_type": "execute_result"
    }
   ],
   "source": [
    "df.head()"
   ]
  },
  {
   "cell_type": "code",
   "execution_count": 8,
   "metadata": {},
   "outputs": [
    {
     "data": {
      "text/plain": [
       "Index(['SEX', 'EDUCATION', 'MARRIAGE', 'AGE', 'PAY_0', 'PAY_2', 'PAY_3',\n",
       "       'PAY_4', 'PAY_5', 'PAY_6', 'default', 'limit_bal_$', 'bill_amt1_$',\n",
       "       'bill_amt2_$', 'bill_amt3_$', 'bill_amt4_$', 'bill_amt5_$',\n",
       "       'bill_amt6_$', 'pay_amt1_$', 'pay_amt2_$', 'pay_amt3_$', 'pay_amt4_$',\n",
       "       'pay_amt5_$', 'pay_amt6_$'],\n",
       "      dtype='object')"
      ]
     },
     "execution_count": 8,
     "metadata": {},
     "output_type": "execute_result"
    }
   ],
   "source": [
    "df.columns"
   ]
  },
  {
   "cell_type": "code",
   "execution_count": 9,
   "metadata": {},
   "outputs": [],
   "source": [
    "y = df.default"
   ]
  },
  {
   "cell_type": "code",
   "execution_count": 10,
   "metadata": {
    "scrolled": false
   },
   "outputs": [
    {
     "data": {
      "image/png": "[encoded data removed]",
      "text/plain": [
       "<Figure size 432x288 with 1 Axes>"
      ]
     },
     "metadata": {
      "needs_background": "light"
     },
     "output_type": "display_data"
    },
    {
     "data": {
      "image/png": "[encoded data removed]",
      "text/plain": [
       "<Figure size 432x288 with 1 Axes>"
      ]
     },
     "metadata": {
      "needs_background": "light"
     },
     "output_type": "display_data"
    },
    {
     "data": {
      "image/png": "[encoded data removed]",
      "text/plain": [
       "<Figure size 432x288 with 1 Axes>"
      ]
     },
     "metadata": {
      "needs_background": "light"
     },
     "output_type": "display_data"
    },
    {
     "data": {
      "image/png": "[encoded data removed]",
      "text/plain": [
       "<Figure size 432x288 with 1 Axes>"
      ]
     },
     "metadata": {
      "needs_background": "light"
     },
     "output_type": "display_data"
    },
    {
     "data": {
      "image/png": "[encoded data removed]",
      "text/plain": [
       "<Figure size 432x288 with 1 Axes>"
      ]
     },
     "metadata": {
      "needs_background": "light"
     },
     "output_type": "display_data"
    },
    {
     "data": {
      "image/png": "[encoded data removed]",
      "text/plain": [
       "<Figure size 432x288 with 1 Axes>"
      ]
     },
     "metadata": {
      "needs_background": "light"
     },
     "output_type": "display_data"
    },
    {
     "data": {
      "image/png": "[encoded data removed]",
      "text/plain": [
       "<Figure size 432x288 with 1 Axes>"
      ]
     },
     "metadata": {
      "needs_background": "light"
     },
     "output_type": "display_data"
    }
   ],
   "source": [
    "plots = ['limit_bal_$', 'SEX', 'EDUCATION', 'MARRIAGE', 'AGE', \"bill_amt1_$\", \"pay_amt1_$\"]\n",
    "for col in plots:\n",
    "    fig = plt.figure\n",
    "    sns.boxplot(x=\"default\", y=col, data=df)\n",
    "    plt.show()"
   ]
  },
  {
   "cell_type": "code",
   "execution_count": 11,
   "metadata": {},
   "outputs": [
    {
     "data": {
      "text/html": [
       "<div>\n",
       "<style scoped>\n",
       "    .dataframe tbody tr th:only-of-type {\n",
       "        vertical-align: middle;\n",
       "    }\n",
       "\n",
       "    .dataframe tbody tr th {\n",
       "        vertical-align: top;\n",
       "    }\n",
       "\n",
       "    .dataframe thead th {\n",
       "        text-align: right;\n",
       "    }\n",
       "</style>\n",
       "<table border=\"1\" class=\"dataframe\">\n",
       "  <thead>\n",
       "    <tr style=\"text-align: right;\">\n",
       "      <th></th>\n",
       "      <th>SEX</th>\n",
       "      <th>EDUCATION</th>\n",
       "      <th>MARRIAGE</th>\n",
       "      <th>AGE</th>\n",
       "      <th>PAY_0</th>\n",
       "      <th>PAY_2</th>\n",
       "      <th>PAY_3</th>\n",
       "      <th>PAY_4</th>\n",
       "      <th>PAY_5</th>\n",
       "      <th>PAY_6</th>\n",
       "      <th>limit_bal_$</th>\n",
       "      <th>bill_amt1_$</th>\n",
       "      <th>bill_amt2_$</th>\n",
       "      <th>bill_amt3_$</th>\n",
       "      <th>bill_amt4_$</th>\n",
       "      <th>bill_amt5_$</th>\n",
       "      <th>bill_amt6_$</th>\n",
       "      <th>pay_amt1_$</th>\n",
       "      <th>pay_amt2_$</th>\n",
       "      <th>pay_amt3_$</th>\n",
       "      <th>pay_amt4_$</th>\n",
       "      <th>pay_amt5_$</th>\n",
       "      <th>pay_amt6_$</th>\n",
       "    </tr>\n",
       "    <tr>\n",
       "      <th>default</th>\n",
       "      <th></th>\n",
       "      <th></th>\n",
       "      <th></th>\n",
       "      <th></th>\n",
       "      <th></th>\n",
       "      <th></th>\n",
       "      <th></th>\n",
       "      <th></th>\n",
       "      <th></th>\n",
       "      <th></th>\n",
       "      <th></th>\n",
       "      <th></th>\n",
       "      <th></th>\n",
       "      <th></th>\n",
       "      <th></th>\n",
       "      <th></th>\n",
       "      <th></th>\n",
       "      <th></th>\n",
       "      <th></th>\n",
       "      <th></th>\n",
       "      <th></th>\n",
       "      <th></th>\n",
       "      <th></th>\n",
       "    </tr>\n",
       "  </thead>\n",
       "  <tbody>\n",
       "    <tr>\n",
       "      <th>0</th>\n",
       "      <td>1.613985</td>\n",
       "      <td>1.844578</td>\n",
       "      <td>1.556739</td>\n",
       "      <td>35.463699</td>\n",
       "      <td>-0.209138</td>\n",
       "      <td>-0.302445</td>\n",
       "      <td>-0.317104</td>\n",
       "      <td>-0.353593</td>\n",
       "      <td>-0.384410</td>\n",
       "      <td>-0.400246</td>\n",
       "      <td>5709.018458</td>\n",
       "      <td>1667.585416</td>\n",
       "      <td>1595.106868</td>\n",
       "      <td>1529.722970</td>\n",
       "      <td>1407.309856</td>\n",
       "      <td>1306.637547</td>\n",
       "      <td>1256.861980</td>\n",
       "      <td>202.274207</td>\n",
       "      <td>215.189839</td>\n",
       "      <td>184.313571</td>\n",
       "      <td>169.151803</td>\n",
       "      <td>168.269164</td>\n",
       "      <td>183.358812</td>\n",
       "    </tr>\n",
       "    <tr>\n",
       "      <th>1</th>\n",
       "      <td>1.567069</td>\n",
       "      <td>1.899774</td>\n",
       "      <td>1.529766</td>\n",
       "      <td>35.732856</td>\n",
       "      <td>0.668802</td>\n",
       "      <td>0.455350</td>\n",
       "      <td>0.367747</td>\n",
       "      <td>0.263564</td>\n",
       "      <td>0.172005</td>\n",
       "      <td>0.116993</td>\n",
       "      <td>4178.132208</td>\n",
       "      <td>1591.915750</td>\n",
       "      <td>1548.028823</td>\n",
       "      <td>1482.120464</td>\n",
       "      <td>1381.000555</td>\n",
       "      <td>1294.430185</td>\n",
       "      <td>1249.615699</td>\n",
       "      <td>110.640512</td>\n",
       "      <td>113.173492</td>\n",
       "      <td>111.035955</td>\n",
       "      <td>102.380956</td>\n",
       "      <td>105.567560</td>\n",
       "      <td>113.286806</td>\n",
       "    </tr>\n",
       "  </tbody>\n",
       "</table>\n",
       "</div>"
      ],
      "text/plain": [
       "              SEX  EDUCATION  MARRIAGE        AGE     PAY_0     PAY_2  \\\n",
       "default                                                                 \n",
       "0        1.613985   1.844578  1.556739  35.463699 -0.209138 -0.302445   \n",
       "1        1.567069   1.899774  1.529766  35.732856  0.668802  0.455350   \n",
       "\n",
       "            PAY_3     PAY_4     PAY_5     PAY_6  limit_bal_$  bill_amt1_$  \\\n",
       "default                                                                     \n",
       "0       -0.317104 -0.353593 -0.384410 -0.400246  5709.018458  1667.585416   \n",
       "1        0.367747  0.263564  0.172005  0.116993  4178.132208  1591.915750   \n",
       "\n",
       "         bill_amt2_$  bill_amt3_$  bill_amt4_$  bill_amt5_$  bill_amt6_$  \\\n",
       "default                                                                    \n",
       "0        1595.106868  1529.722970  1407.309856  1306.637547  1256.861980   \n",
       "1        1548.028823  1482.120464  1381.000555  1294.430185  1249.615699   \n",
       "\n",
       "         pay_amt1_$  pay_amt2_$  pay_amt3_$  pay_amt4_$  pay_amt5_$  \\\n",
       "default                                                               \n",
       "0        202.274207  215.189839  184.313571  169.151803  168.269164   \n",
       "1        110.640512  113.173492  111.035955  102.380956  105.567560   \n",
       "\n",
       "         pay_amt6_$  \n",
       "default              \n",
       "0        183.358812  \n",
       "1        113.286806  "
      ]
     },
     "execution_count": 11,
     "metadata": {},
     "output_type": "execute_result"
    }
   ],
   "source": [
    "df.groupby([\"default\"]).mean()"
   ]
  },
  {
   "cell_type": "code",
   "execution_count": 12,
   "metadata": {},
   "outputs": [],
   "source": [
    "#sns.lmplot(x='PAY_0', y='default', data=df, ci=None, logistic=True, x_jitter=0.1, y_jitter=0.05)\n",
    "#sns.set({\"alpha\":0.3})"
   ]
  },
  {
   "cell_type": "code",
   "execution_count": 13,
   "metadata": {},
   "outputs": [
    {
     "name": "stdout",
     "output_type": "stream",
     "text": [
      "<class 'pandas.core.frame.DataFrame'>\n",
      "RangeIndex: 23999 entries, 0 to 23998\n",
      "Data columns (total 24 columns):\n",
      "SEX            23999 non-null int64\n",
      "EDUCATION      23999 non-null int64\n",
      "MARRIAGE       23999 non-null int64\n",
      "AGE            23999 non-null int64\n",
      "PAY_0          23999 non-null int64\n",
      "PAY_2          23999 non-null int64\n",
      "PAY_3          23999 non-null int64\n",
      "PAY_4          23999 non-null int64\n",
      "PAY_5          23999 non-null int64\n",
      "PAY_6          23999 non-null int64\n",
      "default        23999 non-null int64\n",
      "limit_bal_$    23999 non-null float64\n",
      "bill_amt1_$    23999 non-null float64\n",
      "bill_amt2_$    23999 non-null float64\n",
      "bill_amt3_$    23999 non-null float64\n",
      "bill_amt4_$    23999 non-null float64\n",
      "bill_amt5_$    23999 non-null float64\n",
      "bill_amt6_$    23999 non-null float64\n",
      "pay_amt1_$     23999 non-null float64\n",
      "pay_amt2_$     23999 non-null float64\n",
      "pay_amt3_$     23999 non-null float64\n",
      "pay_amt4_$     23999 non-null float64\n",
      "pay_amt5_$     23999 non-null float64\n",
      "pay_amt6_$     23999 non-null float64\n",
      "dtypes: float64(13), int64(11)\n",
      "memory usage: 4.4 MB\n"
     ]
    }
   ],
   "source": [
    "df.info()"
   ]
  },
  {
   "cell_type": "code",
   "execution_count": 14,
   "metadata": {},
   "outputs": [
    {
     "data": {
      "text/plain": [
       "Index(['SEX', 'EDUCATION', 'MARRIAGE', 'AGE', 'PAY_0', 'PAY_2', 'PAY_3',\n",
       "       'PAY_4', 'PAY_5', 'PAY_6', 'default', 'limit_bal_$', 'bill_amt1_$',\n",
       "       'bill_amt2_$', 'bill_amt3_$', 'bill_amt4_$', 'bill_amt5_$',\n",
       "       'bill_amt6_$', 'pay_amt1_$', 'pay_amt2_$', 'pay_amt3_$', 'pay_amt4_$',\n",
       "       'pay_amt5_$', 'pay_amt6_$'],\n",
       "      dtype='object')"
      ]
     },
     "execution_count": 14,
     "metadata": {},
     "output_type": "execute_result"
    }
   ],
   "source": [
    "df.columns"
   ]
  },
  {
   "cell_type": "code",
   "execution_count": 15,
   "metadata": {},
   "outputs": [],
   "source": [
    "#Engineering Credit Length:\n",
    "credit_cols = ['bill_amt6_$','bill_amt5_$','bill_amt4_$','bill_amt3_$','bill_amt2_$','bill_amt1_$']\n",
    "payment_cols = ['PAY_0', 'PAY_2', 'PAY_3', 'PAY_4', 'PAY_5', 'PAY_6']\n",
    "payment_amt_col = ['pay_amt1_$', 'pay_amt2_$', 'pay_amt3_$', 'pay_amt4_$','pay_amt5_$', 'pay_amt6_$']\n",
    "\n",
    "#Lenght of credit history\n",
    "def credit_len (n,credit_cols):\n",
    "    obs = df.iloc[n]\n",
    "    for n , col in enumerate(credit_cols):\n",
    "        if obs[col] > 0:\n",
    "            return 6-n\n",
    "    return 0\n",
    "\n",
    "#Number of Credits taken\n",
    "def credit_number (n,credit_cols):\n",
    "    \"\"\"Counts month in which client had depts\"\"\"\n",
    "    obs = df.iloc[n]\n",
    "    i = 0\n",
    "    for col in credit_cols:\n",
    "        if obs[col]>0:\n",
    "            i += 1\n",
    "    return i\n",
    "\n",
    "#Credit Payment Score\n",
    "def payment_score(n,payment_cols):\n",
    "    obs = df.iloc[n]\n",
    "    return sum([obs[x] for x in payment_cols])\n",
    "#Sums of payment\n",
    "\n",
    "def payment_sum(n,payment_amt_col):\n",
    "    obs = df.iloc[n]\n",
    "    return sum([obs[col] for col in payment_amt_col])\n",
    "#Sums of Biills\n",
    "\n",
    "def bill_sum(n,credit_cols):\n",
    "    obs = df.iloc[n]\n",
    "    return sum([obs[col] for col in credit_cols])"
   ]
  },
  {
   "cell_type": "markdown",
   "metadata": {},
   "source": [
    "### Credit Score Features following the aproach from:\n",
    "https://www.thebalance.com/what-your-credit-score-is-made-of-960450"
   ]
  },
  {
   "cell_type": "code",
   "execution_count": 16,
   "metadata": {},
   "outputs": [],
   "source": [
    "df[\"payment_score\"] = [payment_score(n, payment_cols) for n in range(len(df))] #0.375 #the higher the worse"
   ]
  },
  {
   "cell_type": "code",
   "execution_count": 17,
   "metadata": {},
   "outputs": [],
   "source": [
    "df[\"cur_debt_rt\"] = df[\"bill_amt1_$\"]/df[\"limit_bal_$\"] #0.325 #the higher the worse"
   ]
  },
  {
   "cell_type": "code",
   "execution_count": 18,
   "metadata": {},
   "outputs": [],
   "source": [
    "df[\"credit_hist\"] = [credit_len(n, credit_cols) for n in range(len(df))] #0.175 #the higher the better"
   ]
  },
  {
   "cell_type": "code",
   "execution_count": 19,
   "metadata": {},
   "outputs": [],
   "source": [
    "df[\"credit_number\"] = [credit_number(n, credit_cols) for n in range(len(df))] #0.125 #the higher the worse"
   ]
  },
  {
   "cell_type": "code",
   "execution_count": null,
   "metadata": {},
   "outputs": [],
   "source": [
    "#more feature engeneering"
   ]
  },
  {
   "cell_type": "code",
   "execution_count": 20,
   "metadata": {},
   "outputs": [],
   "source": [
    "df[\"payment_sum\"] = [payment_sum(n,payment_amt_col) for n in range(len(df))] "
   ]
  },
  {
   "cell_type": "code",
   "execution_count": 21,
   "metadata": {},
   "outputs": [],
   "source": [
    "df[\"bill_sum\"] = [bill_sum(n,credit_cols) for n in range(len(df))] "
   ]
  },
  {
   "cell_type": "code",
   "execution_count": 24,
   "metadata": {
    "scrolled": true
   },
   "outputs": [
    {
     "data": {
      "text/html": [
       "<div>\n",
       "<style scoped>\n",
       "    .dataframe tbody tr th:only-of-type {\n",
       "        vertical-align: middle;\n",
       "    }\n",
       "\n",
       "    .dataframe tbody tr th {\n",
       "        vertical-align: top;\n",
       "    }\n",
       "\n",
       "    .dataframe thead th {\n",
       "        text-align: right;\n",
       "    }\n",
       "</style>\n",
       "<table border=\"1\" class=\"dataframe\">\n",
       "  <thead>\n",
       "    <tr style=\"text-align: right;\">\n",
       "      <th></th>\n",
       "      <th>SEX</th>\n",
       "      <th>EDUCATION</th>\n",
       "      <th>MARRIAGE</th>\n",
       "      <th>AGE</th>\n",
       "      <th>PAY_0</th>\n",
       "      <th>PAY_2</th>\n",
       "      <th>PAY_3</th>\n",
       "      <th>PAY_4</th>\n",
       "      <th>PAY_5</th>\n",
       "      <th>PAY_6</th>\n",
       "      <th>default</th>\n",
       "      <th>limit_bal_$</th>\n",
       "      <th>bill_amt1_$</th>\n",
       "      <th>bill_amt2_$</th>\n",
       "      <th>bill_amt3_$</th>\n",
       "      <th>bill_amt4_$</th>\n",
       "      <th>bill_amt5_$</th>\n",
       "      <th>bill_amt6_$</th>\n",
       "      <th>pay_amt1_$</th>\n",
       "      <th>pay_amt2_$</th>\n",
       "      <th>pay_amt3_$</th>\n",
       "      <th>pay_amt4_$</th>\n",
       "      <th>pay_amt5_$</th>\n",
       "      <th>pay_amt6_$</th>\n",
       "      <th>payment_score</th>\n",
       "      <th>cur_debt_rt</th>\n",
       "      <th>credit_hist</th>\n",
       "      <th>credit_number</th>\n",
       "      <th>payment_sum</th>\n",
       "      <th>bill_sum</th>\n",
       "    </tr>\n",
       "  </thead>\n",
       "  <tbody>\n",
       "    <tr>\n",
       "      <th>0</th>\n",
       "      <td>1</td>\n",
       "      <td>2</td>\n",
       "      <td>2</td>\n",
       "      <td>49</td>\n",
       "      <td>0</td>\n",
       "      <td>0</td>\n",
       "      <td>0</td>\n",
       "      <td>0</td>\n",
       "      <td>0</td>\n",
       "      <td>0</td>\n",
       "      <td>1</td>\n",
       "      <td>1600.0</td>\n",
       "      <td>2887.392</td>\n",
       "      <td>2900.704</td>\n",
       "      <td>2953.888</td>\n",
       "      <td>3004.160</td>\n",
       "      <td>3181.376</td>\n",
       "      <td>3244.544</td>\n",
       "      <td>91.264</td>\n",
       "      <td>89.088</td>\n",
       "      <td>83.296</td>\n",
       "      <td>320.000</td>\n",
       "      <td>101.248</td>\n",
       "      <td>91.776</td>\n",
       "      <td>0.0</td>\n",
       "      <td>1.804620</td>\n",
       "      <td>6</td>\n",
       "      <td>6</td>\n",
       "      <td>776.672</td>\n",
       "      <td>18172.064</td>\n",
       "    </tr>\n",
       "    <tr>\n",
       "      <th>1</th>\n",
       "      <td>1</td>\n",
       "      <td>2</td>\n",
       "      <td>1</td>\n",
       "      <td>39</td>\n",
       "      <td>0</td>\n",
       "      <td>0</td>\n",
       "      <td>0</td>\n",
       "      <td>0</td>\n",
       "      <td>0</td>\n",
       "      <td>0</td>\n",
       "      <td>0</td>\n",
       "      <td>960.0</td>\n",
       "      <td>668.576</td>\n",
       "      <td>710.592</td>\n",
       "      <td>616.736</td>\n",
       "      <td>527.008</td>\n",
       "      <td>469.440</td>\n",
       "      <td>358.848</td>\n",
       "      <td>64.224</td>\n",
       "      <td>64.000</td>\n",
       "      <td>64.000</td>\n",
       "      <td>13.344</td>\n",
       "      <td>48.000</td>\n",
       "      <td>48.000</td>\n",
       "      <td>0.0</td>\n",
       "      <td>0.696433</td>\n",
       "      <td>6</td>\n",
       "      <td>6</td>\n",
       "      <td>301.568</td>\n",
       "      <td>3351.200</td>\n",
       "    </tr>\n",
       "    <tr>\n",
       "      <th>2</th>\n",
       "      <td>1</td>\n",
       "      <td>1</td>\n",
       "      <td>2</td>\n",
       "      <td>27</td>\n",
       "      <td>0</td>\n",
       "      <td>0</td>\n",
       "      <td>0</td>\n",
       "      <td>0</td>\n",
       "      <td>0</td>\n",
       "      <td>0</td>\n",
       "      <td>0</td>\n",
       "      <td>8320.0</td>\n",
       "      <td>5078.752</td>\n",
       "      <td>4153.472</td>\n",
       "      <td>3255.072</td>\n",
       "      <td>2454.368</td>\n",
       "      <td>1815.616</td>\n",
       "      <td>1252.288</td>\n",
       "      <td>960.000</td>\n",
       "      <td>132.224</td>\n",
       "      <td>109.120</td>\n",
       "      <td>83.200</td>\n",
       "      <td>57.600</td>\n",
       "      <td>38.400</td>\n",
       "      <td>0.0</td>\n",
       "      <td>0.610427</td>\n",
       "      <td>6</td>\n",
       "      <td>6</td>\n",
       "      <td>1380.544</td>\n",
       "      <td>18009.568</td>\n",
       "    </tr>\n",
       "    <tr>\n",
       "      <th>3</th>\n",
       "      <td>2</td>\n",
       "      <td>2</td>\n",
       "      <td>1</td>\n",
       "      <td>33</td>\n",
       "      <td>0</td>\n",
       "      <td>0</td>\n",
       "      <td>0</td>\n",
       "      <td>0</td>\n",
       "      <td>0</td>\n",
       "      <td>0</td>\n",
       "      <td>0</td>\n",
       "      <td>6400.0</td>\n",
       "      <td>760.384</td>\n",
       "      <td>830.208</td>\n",
       "      <td>863.616</td>\n",
       "      <td>807.584</td>\n",
       "      <td>708.192</td>\n",
       "      <td>440.768</td>\n",
       "      <td>128.000</td>\n",
       "      <td>64.000</td>\n",
       "      <td>19.200</td>\n",
       "      <td>96.000</td>\n",
       "      <td>128.000</td>\n",
       "      <td>3.200</td>\n",
       "      <td>0.0</td>\n",
       "      <td>0.118810</td>\n",
       "      <td>6</td>\n",
       "      <td>6</td>\n",
       "      <td>438.400</td>\n",
       "      <td>4410.752</td>\n",
       "    </tr>\n",
       "    <tr>\n",
       "      <th>4</th>\n",
       "      <td>1</td>\n",
       "      <td>1</td>\n",
       "      <td>2</td>\n",
       "      <td>27</td>\n",
       "      <td>0</td>\n",
       "      <td>0</td>\n",
       "      <td>0</td>\n",
       "      <td>0</td>\n",
       "      <td>0</td>\n",
       "      <td>0</td>\n",
       "      <td>0</td>\n",
       "      <td>1600.0</td>\n",
       "      <td>467.648</td>\n",
       "      <td>499.904</td>\n",
       "      <td>522.944</td>\n",
       "      <td>564.896</td>\n",
       "      <td>566.304</td>\n",
       "      <td>578.176</td>\n",
       "      <td>49.856</td>\n",
       "      <td>40.896</td>\n",
       "      <td>50.848</td>\n",
       "      <td>20.256</td>\n",
       "      <td>20.992</td>\n",
       "      <td>25.056</td>\n",
       "      <td>0.0</td>\n",
       "      <td>0.292280</td>\n",
       "      <td>6</td>\n",
       "      <td>6</td>\n",
       "      <td>207.904</td>\n",
       "      <td>3199.872</td>\n",
       "    </tr>\n",
       "  </tbody>\n",
       "</table>\n",
       "</div>"
      ],
      "text/plain": [
       "   SEX  EDUCATION  MARRIAGE  AGE  PAY_0  PAY_2  PAY_3  PAY_4  PAY_5  PAY_6  \\\n",
       "0    1          2         2   49      0      0      0      0      0      0   \n",
       "1    1          2         1   39      0      0      0      0      0      0   \n",
       "2    1          1         2   27      0      0      0      0      0      0   \n",
       "3    2          2         1   33      0      0      0      0      0      0   \n",
       "4    1          1         2   27      0      0      0      0      0      0   \n",
       "\n",
       "   default  limit_bal_$  bill_amt1_$  bill_amt2_$  bill_amt3_$  bill_amt4_$  \\\n",
       "0        1       1600.0     2887.392     2900.704     2953.888     3004.160   \n",
       "1        0        960.0      668.576      710.592      616.736      527.008   \n",
       "2        0       8320.0     5078.752     4153.472     3255.072     2454.368   \n",
       "3        0       6400.0      760.384      830.208      863.616      807.584   \n",
       "4        0       1600.0      467.648      499.904      522.944      564.896   \n",
       "\n",
       "   bill_amt5_$  bill_amt6_$  pay_amt1_$  pay_amt2_$  pay_amt3_$  pay_amt4_$  \\\n",
       "0     3181.376     3244.544      91.264      89.088      83.296     320.000   \n",
       "1      469.440      358.848      64.224      64.000      64.000      13.344   \n",
       "2     1815.616     1252.288     960.000     132.224     109.120      83.200   \n",
       "3      708.192      440.768     128.000      64.000      19.200      96.000   \n",
       "4      566.304      578.176      49.856      40.896      50.848      20.256   \n",
       "\n",
       "   pay_amt5_$  pay_amt6_$  payment_score  cur_debt_rt  credit_hist  \\\n",
       "0     101.248      91.776            0.0     1.804620            6   \n",
       "1      48.000      48.000            0.0     0.696433            6   \n",
       "2      57.600      38.400            0.0     0.610427            6   \n",
       "3     128.000       3.200            0.0     0.118810            6   \n",
       "4      20.992      25.056            0.0     0.292280            6   \n",
       "\n",
       "   credit_number  payment_sum   bill_sum  \n",
       "0              6      776.672  18172.064  \n",
       "1              6      301.568   3351.200  \n",
       "2              6     1380.544  18009.568  \n",
       "3              6      438.400   4410.752  \n",
       "4              6      207.904   3199.872  "
      ]
     },
     "execution_count": 24,
     "metadata": {},
     "output_type": "execute_result"
    }
   ],
   "source": [
    "df.head()"
   ]
  },
  {
   "cell_type": "markdown",
   "metadata": {},
   "source": [
    "## 2. EDA"
   ]
  },
  {
   "cell_type": "code",
   "execution_count": 26,
   "metadata": {},
   "outputs": [
    {
     "data": {
      "text/plain": [
       "2    14486\n",
       "1     9513\n",
       "Name: SEX, dtype: int64"
      ]
     },
     "execution_count": 26,
     "metadata": {},
     "output_type": "execute_result"
    }
   ],
   "source": [
    "#SEX\n",
    "df.SEX.value_counts()"
   ]
  },
  {
   "cell_type": "code",
   "execution_count": 27,
   "metadata": {},
   "outputs": [],
   "source": [
    "df.SEX = df.SEX-1"
   ]
  },
  {
   "cell_type": "code",
   "execution_count": 28,
   "metadata": {},
   "outputs": [
    {
     "data": {
      "text/plain": [
       "0       11\n",
       "1     8442\n",
       "2    11188\n",
       "3     3994\n",
       "4      100\n",
       "5      223\n",
       "6       41\n",
       "Name: EDUCATION, dtype: int64"
      ]
     },
     "execution_count": 28,
     "metadata": {},
     "output_type": "execute_result"
    }
   ],
   "source": [
    "df.EDUCATION.value_counts().sort_index()"
   ]
  },
  {
   "cell_type": "code",
   "execution_count": 29,
   "metadata": {},
   "outputs": [],
   "source": [
    "import tpclean.tpclean as tp"
   ]
  },
  {
   "cell_type": "code",
   "execution_count": 31,
   "metadata": {},
   "outputs": [],
   "source": [
    "col_dict=[{\"name\":\"EDUCATION\",\"bins\":[0,1,2,3,4,5,6,99],\"labels\":[0,1,2,3,4,5,\"6+\"],\"abr\":\"edu\"}]\n",
    "df = tp.dummy_transformation(df_test, col_dict, one_hot=True)\n",
    "df.drop(\"edu_6+\", axis = 1, inplace = True)"
   ]
  },
  {
   "cell_type": "code",
   "execution_count": 32,
   "metadata": {},
   "outputs": [],
   "source": [
    "df[\"MARRIAGE\"] = df[\"MARRIAGE\"].replace(3,0)"
   ]
  },
  {
   "cell_type": "code",
   "execution_count": 33,
   "metadata": {},
   "outputs": [],
   "source": [
    "df_test = df.copy()"
   ]
  },
  {
   "cell_type": "code",
   "execution_count": 34,
   "metadata": {},
   "outputs": [],
   "source": [
    "df.to_csv(\"Credit_data_engineered.csv\", index = False)"
   ]
  },
  {
   "cell_type": "markdown",
   "metadata": {},
   "source": [
    "## 3. Feature Engineering"
   ]
  },
  {
   "cell_type": "code",
   "execution_count": 35,
   "metadata": {
    "scrolled": true
   },
   "outputs": [
    {
     "data": {
      "text/html": [
       "<div>\n",
       "<style scoped>\n",
       "    .dataframe tbody tr th:only-of-type {\n",
       "        vertical-align: middle;\n",
       "    }\n",
       "\n",
       "    .dataframe tbody tr th {\n",
       "        vertical-align: top;\n",
       "    }\n",
       "\n",
       "    .dataframe thead th {\n",
       "        text-align: right;\n",
       "    }\n",
       "</style>\n",
       "<table border=\"1\" class=\"dataframe\">\n",
       "  <thead>\n",
       "    <tr style=\"text-align: right;\">\n",
       "      <th></th>\n",
       "      <th>SEX</th>\n",
       "      <th>MARRIAGE</th>\n",
       "      <th>AGE</th>\n",
       "      <th>PAY_0</th>\n",
       "      <th>PAY_2</th>\n",
       "      <th>PAY_3</th>\n",
       "      <th>PAY_4</th>\n",
       "      <th>PAY_5</th>\n",
       "      <th>PAY_6</th>\n",
       "      <th>default</th>\n",
       "      <th>limit_bal_$</th>\n",
       "      <th>bill_amt1_$</th>\n",
       "      <th>bill_amt2_$</th>\n",
       "      <th>bill_amt3_$</th>\n",
       "      <th>bill_amt4_$</th>\n",
       "      <th>bill_amt5_$</th>\n",
       "      <th>bill_amt6_$</th>\n",
       "      <th>pay_amt1_$</th>\n",
       "      <th>pay_amt2_$</th>\n",
       "      <th>pay_amt3_$</th>\n",
       "      <th>pay_amt4_$</th>\n",
       "      <th>pay_amt5_$</th>\n",
       "      <th>pay_amt6_$</th>\n",
       "      <th>payment_score</th>\n",
       "      <th>cur_debt_rt</th>\n",
       "      <th>credit_hist</th>\n",
       "      <th>credit_number</th>\n",
       "      <th>payment_sum</th>\n",
       "      <th>bill_sum</th>\n",
       "      <th>edu_1</th>\n",
       "      <th>edu_2</th>\n",
       "      <th>edu_3</th>\n",
       "      <th>edu_4</th>\n",
       "      <th>edu_5</th>\n",
       "    </tr>\n",
       "  </thead>\n",
       "  <tbody>\n",
       "    <tr>\n",
       "      <th>0</th>\n",
       "      <td>0</td>\n",
       "      <td>2</td>\n",
       "      <td>49</td>\n",
       "      <td>0</td>\n",
       "      <td>0</td>\n",
       "      <td>0</td>\n",
       "      <td>0</td>\n",
       "      <td>0</td>\n",
       "      <td>0</td>\n",
       "      <td>1</td>\n",
       "      <td>1600.0</td>\n",
       "      <td>2887.392</td>\n",
       "      <td>2900.704</td>\n",
       "      <td>2953.888</td>\n",
       "      <td>3004.160</td>\n",
       "      <td>3181.376</td>\n",
       "      <td>3244.544</td>\n",
       "      <td>91.264</td>\n",
       "      <td>89.088</td>\n",
       "      <td>83.296</td>\n",
       "      <td>320.000</td>\n",
       "      <td>101.248</td>\n",
       "      <td>91.776</td>\n",
       "      <td>0.0</td>\n",
       "      <td>1.804620</td>\n",
       "      <td>6</td>\n",
       "      <td>6</td>\n",
       "      <td>776.672</td>\n",
       "      <td>18172.064</td>\n",
       "      <td>1</td>\n",
       "      <td>0</td>\n",
       "      <td>0</td>\n",
       "      <td>0</td>\n",
       "      <td>0</td>\n",
       "    </tr>\n",
       "    <tr>\n",
       "      <th>1</th>\n",
       "      <td>0</td>\n",
       "      <td>1</td>\n",
       "      <td>39</td>\n",
       "      <td>0</td>\n",
       "      <td>0</td>\n",
       "      <td>0</td>\n",
       "      <td>0</td>\n",
       "      <td>0</td>\n",
       "      <td>0</td>\n",
       "      <td>0</td>\n",
       "      <td>960.0</td>\n",
       "      <td>668.576</td>\n",
       "      <td>710.592</td>\n",
       "      <td>616.736</td>\n",
       "      <td>527.008</td>\n",
       "      <td>469.440</td>\n",
       "      <td>358.848</td>\n",
       "      <td>64.224</td>\n",
       "      <td>64.000</td>\n",
       "      <td>64.000</td>\n",
       "      <td>13.344</td>\n",
       "      <td>48.000</td>\n",
       "      <td>48.000</td>\n",
       "      <td>0.0</td>\n",
       "      <td>0.696433</td>\n",
       "      <td>6</td>\n",
       "      <td>6</td>\n",
       "      <td>301.568</td>\n",
       "      <td>3351.200</td>\n",
       "      <td>1</td>\n",
       "      <td>0</td>\n",
       "      <td>0</td>\n",
       "      <td>0</td>\n",
       "      <td>0</td>\n",
       "    </tr>\n",
       "    <tr>\n",
       "      <th>2</th>\n",
       "      <td>0</td>\n",
       "      <td>2</td>\n",
       "      <td>27</td>\n",
       "      <td>0</td>\n",
       "      <td>0</td>\n",
       "      <td>0</td>\n",
       "      <td>0</td>\n",
       "      <td>0</td>\n",
       "      <td>0</td>\n",
       "      <td>0</td>\n",
       "      <td>8320.0</td>\n",
       "      <td>5078.752</td>\n",
       "      <td>4153.472</td>\n",
       "      <td>3255.072</td>\n",
       "      <td>2454.368</td>\n",
       "      <td>1815.616</td>\n",
       "      <td>1252.288</td>\n",
       "      <td>960.000</td>\n",
       "      <td>132.224</td>\n",
       "      <td>109.120</td>\n",
       "      <td>83.200</td>\n",
       "      <td>57.600</td>\n",
       "      <td>38.400</td>\n",
       "      <td>0.0</td>\n",
       "      <td>0.610427</td>\n",
       "      <td>6</td>\n",
       "      <td>6</td>\n",
       "      <td>1380.544</td>\n",
       "      <td>18009.568</td>\n",
       "      <td>0</td>\n",
       "      <td>0</td>\n",
       "      <td>0</td>\n",
       "      <td>0</td>\n",
       "      <td>0</td>\n",
       "    </tr>\n",
       "    <tr>\n",
       "      <th>3</th>\n",
       "      <td>1</td>\n",
       "      <td>1</td>\n",
       "      <td>33</td>\n",
       "      <td>0</td>\n",
       "      <td>0</td>\n",
       "      <td>0</td>\n",
       "      <td>0</td>\n",
       "      <td>0</td>\n",
       "      <td>0</td>\n",
       "      <td>0</td>\n",
       "      <td>6400.0</td>\n",
       "      <td>760.384</td>\n",
       "      <td>830.208</td>\n",
       "      <td>863.616</td>\n",
       "      <td>807.584</td>\n",
       "      <td>708.192</td>\n",
       "      <td>440.768</td>\n",
       "      <td>128.000</td>\n",
       "      <td>64.000</td>\n",
       "      <td>19.200</td>\n",
       "      <td>96.000</td>\n",
       "      <td>128.000</td>\n",
       "      <td>3.200</td>\n",
       "      <td>0.0</td>\n",
       "      <td>0.118810</td>\n",
       "      <td>6</td>\n",
       "      <td>6</td>\n",
       "      <td>438.400</td>\n",
       "      <td>4410.752</td>\n",
       "      <td>1</td>\n",
       "      <td>0</td>\n",
       "      <td>0</td>\n",
       "      <td>0</td>\n",
       "      <td>0</td>\n",
       "    </tr>\n",
       "    <tr>\n",
       "      <th>4</th>\n",
       "      <td>0</td>\n",
       "      <td>2</td>\n",
       "      <td>27</td>\n",
       "      <td>0</td>\n",
       "      <td>0</td>\n",
       "      <td>0</td>\n",
       "      <td>0</td>\n",
       "      <td>0</td>\n",
       "      <td>0</td>\n",
       "      <td>0</td>\n",
       "      <td>1600.0</td>\n",
       "      <td>467.648</td>\n",
       "      <td>499.904</td>\n",
       "      <td>522.944</td>\n",
       "      <td>564.896</td>\n",
       "      <td>566.304</td>\n",
       "      <td>578.176</td>\n",
       "      <td>49.856</td>\n",
       "      <td>40.896</td>\n",
       "      <td>50.848</td>\n",
       "      <td>20.256</td>\n",
       "      <td>20.992</td>\n",
       "      <td>25.056</td>\n",
       "      <td>0.0</td>\n",
       "      <td>0.292280</td>\n",
       "      <td>6</td>\n",
       "      <td>6</td>\n",
       "      <td>207.904</td>\n",
       "      <td>3199.872</td>\n",
       "      <td>0</td>\n",
       "      <td>0</td>\n",
       "      <td>0</td>\n",
       "      <td>0</td>\n",
       "      <td>0</td>\n",
       "    </tr>\n",
       "  </tbody>\n",
       "</table>\n",
       "</div>"
      ],
      "text/plain": [
       "   SEX  MARRIAGE  AGE  PAY_0  PAY_2  PAY_3  PAY_4  PAY_5  PAY_6  default  \\\n",
       "0    0         2   49      0      0      0      0      0      0        1   \n",
       "1    0         1   39      0      0      0      0      0      0        0   \n",
       "2    0         2   27      0      0      0      0      0      0        0   \n",
       "3    1         1   33      0      0      0      0      0      0        0   \n",
       "4    0         2   27      0      0      0      0      0      0        0   \n",
       "\n",
       "   limit_bal_$  bill_amt1_$  bill_amt2_$  bill_amt3_$  bill_amt4_$  \\\n",
       "0       1600.0     2887.392     2900.704     2953.888     3004.160   \n",
       "1        960.0      668.576      710.592      616.736      527.008   \n",
       "2       8320.0     5078.752     4153.472     3255.072     2454.368   \n",
       "3       6400.0      760.384      830.208      863.616      807.584   \n",
       "4       1600.0      467.648      499.904      522.944      564.896   \n",
       "\n",
       "   bill_amt5_$  bill_amt6_$  pay_amt1_$  pay_amt2_$  pay_amt3_$  pay_amt4_$  \\\n",
       "0     3181.376     3244.544      91.264      89.088      83.296     320.000   \n",
       "1      469.440      358.848      64.224      64.000      64.000      13.344   \n",
       "2     1815.616     1252.288     960.000     132.224     109.120      83.200   \n",
       "3      708.192      440.768     128.000      64.000      19.200      96.000   \n",
       "4      566.304      578.176      49.856      40.896      50.848      20.256   \n",
       "\n",
       "   pay_amt5_$  pay_amt6_$  payment_score  cur_debt_rt  credit_hist  \\\n",
       "0     101.248      91.776            0.0     1.804620            6   \n",
       "1      48.000      48.000            0.0     0.696433            6   \n",
       "2      57.600      38.400            0.0     0.610427            6   \n",
       "3     128.000       3.200            0.0     0.118810            6   \n",
       "4      20.992      25.056            0.0     0.292280            6   \n",
       "\n",
       "   credit_number  payment_sum   bill_sum  edu_1  edu_2  edu_3  edu_4  edu_5  \n",
       "0              6      776.672  18172.064      1      0      0      0      0  \n",
       "1              6      301.568   3351.200      1      0      0      0      0  \n",
       "2              6     1380.544  18009.568      0      0      0      0      0  \n",
       "3              6      438.400   4410.752      1      0      0      0      0  \n",
       "4              6      207.904   3199.872      0      0      0      0      0  "
      ]
     },
     "execution_count": 35,
     "metadata": {},
     "output_type": "execute_result"
    }
   ],
   "source": [
    "df.head()"
   ]
  },
  {
   "cell_type": "markdown",
   "metadata": {},
   "source": [
    "### Polynomials and Interaction Terms"
   ]
  },
  {
   "cell_type": "code",
   "execution_count": 36,
   "metadata": {},
   "outputs": [],
   "source": [
    "from sklearn.preprocessing import PolynomialFeatures"
   ]
  },
  {
   "cell_type": "code",
   "execution_count": 37,
   "metadata": {},
   "outputs": [],
   "source": [
    "X = df.drop(\"default\", axis = 1)\n",
    "y = df.default"
   ]
  },
  {
   "cell_type": "code",
   "execution_count": 54,
   "metadata": {},
   "outputs": [],
   "source": [
    "columns = list(X.columns)\n",
    "poly_2 = PolynomialFeatures(degree=2, include_bias=False)\n",
    "poly_2.fit(X)\n",
    "X_poly_2= pd.DataFrame(poly_2.transform(X), columns=poly_2.get_feature_names(columns))\n",
    "#columns_2  = poly_2.get_feature_names(columns)"
   ]
  },
  {
   "cell_type": "code",
   "execution_count": 58,
   "metadata": {},
   "outputs": [],
   "source": [
    "#X_poly_2.head()"
   ]
  },
  {
   "cell_type": "code",
   "execution_count": 57,
   "metadata": {},
   "outputs": [],
   "source": [
    "from sklearn.model_selection import train_test_split"
   ]
  },
  {
   "cell_type": "code",
   "execution_count": 59,
   "metadata": {},
   "outputs": [],
   "source": [
    "X_train, X_test, y_train , y_test = train_test_split(X_poly_2,y)"
   ]
  },
  {
   "cell_type": "code",
   "execution_count": 22,
   "metadata": {},
   "outputs": [],
   "source": [
    "##Scale Everything"
   ]
  },
  {
   "cell_type": "code",
   "execution_count": 65,
   "metadata": {},
   "outputs": [],
   "source": [
    "from sklearn.preprocessing import StandardScaler"
   ]
  },
  {
   "cell_type": "code",
   "execution_count": 67,
   "metadata": {},
   "outputs": [],
   "source": [
    "scaler = StandardScaler()\n",
    "scaler.fit(X_train)\n",
    "X_train = pd.DataFrame(scaler.transform(X_train), columns = list(X_train.columns))"
   ]
  },
  {
   "cell_type": "code",
   "execution_count": 70,
   "metadata": {},
   "outputs": [],
   "source": [
    "from sklearn.preprocessing import MinMaxScaler"
   ]
  },
  {
   "cell_type": "code",
   "execution_count": 81,
   "metadata": {},
   "outputs": [],
   "source": [
    "credit_score_values = {\"payment_score\": 0.375,\n",
    "                        \"cur_debt_rt\": 0.325,\n",
    "                        \"credit_hist\": 0.175,\n",
    "                       \"credit_number\": 0.125}"
   ]
  },
  {
   "cell_type": "code",
   "execution_count": 80,
   "metadata": {},
   "outputs": [],
   "source": [
    "scaler_min_max = MinMaxScaler()\n",
    "subset = X_train[credit_score_values.keys()]\n",
    "scaler_min_max.fit(subset)\n",
    "subset_df = pd.DataFrame(scaler_min_max.transform(subset), columns = list(subset.columns))"
   ]
  },
  {
   "cell_type": "code",
   "execution_count": 85,
   "metadata": {},
   "outputs": [
    {
     "data": {
      "text/plain": [
       "array([0., 0., 0., ..., 0., 0., 0.])"
      ]
     },
     "execution_count": 85,
     "metadata": {},
     "output_type": "execute_result"
    }
   ],
   "source": [
    "np.zeros(len(df))"
   ]
  },
  {
   "cell_type": "code",
   "execution_count": 93,
   "metadata": {},
   "outputs": [],
   "source": [
    "# invert credit hist to map it the higher the worse\n",
    "subset_df[\"credit_hist\"] = 1 - subset_df[\"credit_hist\"]"
   ]
  },
  {
   "cell_type": "code",
   "execution_count": 95,
   "metadata": {},
   "outputs": [],
   "source": [
    "def bgtp_credit_score(df):\n",
    "    out = np.zeros(len(df))\n",
    "    for key in credit_score_values.keys():\n",
    "        out += df[key]*credit_score_values[key]\n",
    "    return out"
   ]
  },
  {
   "cell_type": "code",
   "execution_count": 96,
   "metadata": {},
   "outputs": [],
   "source": [
    "test = bgtp_credit_score(subset_df)"
   ]
  },
  {
   "cell_type": "code",
   "execution_count": 97,
   "metadata": {},
   "outputs": [],
   "source": [
    "subset_df[\"bgtp_score\"] = test"
   ]
  },
  {
   "cell_type": "code",
   "execution_count": 104,
   "metadata": {},
   "outputs": [
    {
     "data": {
      "text/html": [
       "<div>\n",
       "<style scoped>\n",
       "    .dataframe tbody tr th:only-of-type {\n",
       "        vertical-align: middle;\n",
       "    }\n",
       "\n",
       "    .dataframe tbody tr th {\n",
       "        vertical-align: top;\n",
       "    }\n",
       "\n",
       "    .dataframe thead th {\n",
       "        text-align: right;\n",
       "    }\n",
       "</style>\n",
       "<table border=\"1\" class=\"dataframe\">\n",
       "  <thead>\n",
       "    <tr style=\"text-align: right;\">\n",
       "      <th></th>\n",
       "      <th>payment_score</th>\n",
       "      <th>cur_debt_rt</th>\n",
       "      <th>credit_hist</th>\n",
       "      <th>credit_number</th>\n",
       "      <th>bgtp_score</th>\n",
       "    </tr>\n",
       "  </thead>\n",
       "  <tbody>\n",
       "    <tr>\n",
       "      <th>0</th>\n",
       "      <td>0.250000</td>\n",
       "      <td>0.215673</td>\n",
       "      <td>0.000000</td>\n",
       "      <td>1.000000</td>\n",
       "      <td>0.288844</td>\n",
       "    </tr>\n",
       "    <tr>\n",
       "      <th>1</th>\n",
       "      <td>0.041667</td>\n",
       "      <td>0.094552</td>\n",
       "      <td>0.833333</td>\n",
       "      <td>0.166667</td>\n",
       "      <td>0.213021</td>\n",
       "    </tr>\n",
       "    <tr>\n",
       "      <th>2</th>\n",
       "      <td>0.333333</td>\n",
       "      <td>0.189624</td>\n",
       "      <td>0.166667</td>\n",
       "      <td>0.833333</td>\n",
       "      <td>0.319961</td>\n",
       "    </tr>\n",
       "    <tr>\n",
       "      <th>3</th>\n",
       "      <td>0.208333</td>\n",
       "      <td>0.123261</td>\n",
       "      <td>0.000000</td>\n",
       "      <td>1.000000</td>\n",
       "      <td>0.243185</td>\n",
       "    </tr>\n",
       "    <tr>\n",
       "      <th>4</th>\n",
       "      <td>0.187500</td>\n",
       "      <td>0.087615</td>\n",
       "      <td>0.000000</td>\n",
       "      <td>0.833333</td>\n",
       "      <td>0.202954</td>\n",
       "    </tr>\n",
       "  </tbody>\n",
       "</table>\n",
       "</div>"
      ],
      "text/plain": [
       "   payment_score  cur_debt_rt  credit_hist  credit_number  bgtp_score\n",
       "0       0.250000     0.215673     0.000000       1.000000    0.288844\n",
       "1       0.041667     0.094552     0.833333       0.166667    0.213021\n",
       "2       0.333333     0.189624     0.166667       0.833333    0.319961\n",
       "3       0.208333     0.123261     0.000000       1.000000    0.243185\n",
       "4       0.187500     0.087615     0.000000       0.833333    0.202954"
      ]
     },
     "execution_count": 104,
     "metadata": {},
     "output_type": "execute_result"
    }
   ],
   "source": [
    "subset_df.head()"
   ]
  },
  {
   "cell_type": "markdown",
   "metadata": {},
   "source": [
    "## 4. Feature Selection"
   ]
  },
  {
   "cell_type": "code",
   "execution_count": null,
   "metadata": {},
   "outputs": [],
   "source": []
  },
  {
   "cell_type": "code",
   "execution_count": null,
   "metadata": {},
   "outputs": [],
   "source": []
  },
  {
   "cell_type": "code",
   "execution_count": null,
   "metadata": {},
   "outputs": [],
   "source": []
  },
  {
   "cell_type": "code",
   "execution_count": null,
   "metadata": {},
   "outputs": [],
   "source": [
    "sns.distplot(defaults.AGE)\n",
    "sns.distplot(non_defaults.AGE)"
   ]
  },
  {
   "cell_type": "code",
   "execution_count": null,
   "metadata": {},
   "outputs": [],
   "source": [
    "sns.distplot(defaults.EDUCATION)\n",
    "sns.distplot(non_defaults.EDUCATION)"
   ]
  },
  {
   "cell_type": "code",
   "execution_count": null,
   "metadata": {},
   "outputs": [],
   "source": [
    "defaults = df.loc[df[\"default\"]==1]\n",
    "non_defaults = df.loc[df[\"default\"]==0]"
   ]
  },
  {
   "cell_type": "code",
   "execution_count": null,
   "metadata": {},
   "outputs": [],
   "source": []
  },
  {
   "cell_type": "code",
   "execution_count": null,
   "metadata": {},
   "outputs": [],
   "source": []
  },
  {
   "cell_type": "markdown",
   "metadata": {},
   "source": [
    "## 5. Model Fitting and Hyperparameter Tuning\n",
    "KNN, Logistic Regression, Decision Tree"
   ]
  },
  {
   "cell_type": "code",
   "execution_count": null,
   "metadata": {},
   "outputs": [],
   "source": []
  },
  {
   "cell_type": "code",
   "execution_count": null,
   "metadata": {},
   "outputs": [],
   "source": []
  },
  {
   "cell_type": "code",
   "execution_count": null,
   "metadata": {},
   "outputs": [],
   "source": []
  },
  {
   "cell_type": "code",
   "execution_count": null,
   "metadata": {},
   "outputs": [],
   "source": []
  },
  {
   "cell_type": "code",
   "execution_count": null,
   "metadata": {},
   "outputs": [],
   "source": []
  },
  {
   "cell_type": "markdown",
   "metadata": {},
   "source": [
    "## 6. Model Evaluation"
   ]
  },
  {
   "cell_type": "code",
   "execution_count": null,
   "metadata": {},
   "outputs": [],
   "source": []
  },
  {
   "cell_type": "code",
   "execution_count": null,
   "metadata": {},
   "outputs": [],
   "source": []
  },
  {
   "cell_type": "code",
   "execution_count": null,
   "metadata": {},
   "outputs": [],
   "source": []
  },
  {
   "cell_type": "code",
   "execution_count": null,
   "metadata": {},
   "outputs": [],
   "source": []
  },
  {
   "cell_type": "code",
   "execution_count": null,
   "metadata": {},
   "outputs": [],
   "source": []
  },
  {
   "cell_type": "markdown",
   "metadata": {},
   "source": [
    "## 7. Final Model"
   ]
  },
  {
   "cell_type": "code",
   "execution_count": null,
   "metadata": {},
   "outputs": [],
   "source": []
  },
  {
   "cell_type": "code",
   "execution_count": null,
   "metadata": {},
   "outputs": [],
   "source": []
  }
 ],
 "metadata": {
  "kernelspec": {
   "display_name": "Python 3",
   "language": "python",
   "name": "python3"
  },
  "language_info": {
   "codemirror_mode": {
    "name": "ipython",
    "version": 3
   },
   "file_extension": ".py",
   "mimetype": "text/x-python",
   "name": "python",
   "nbconvert_exporter": "python",
   "pygments_lexer": "ipython3",
   "version": "3.7.3"
  }
 },
 "nbformat": 4,
 "nbformat_minor": 2
}
